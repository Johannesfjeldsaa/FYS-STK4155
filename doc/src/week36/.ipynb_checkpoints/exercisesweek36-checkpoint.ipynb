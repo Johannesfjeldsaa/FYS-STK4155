{
 "cells": [
  {
   "cell_type": "markdown",
   "id": "d4ee754f",
   "metadata": {},
   "source": [
    "<!-- HTML file automatically generated from DocOnce source (https://github.com/doconce/doconce/)\n",
    "doconce format html exercisesweek36.do.txt  -->\n",
    "<!-- dom:TITLE: Exercises week 36 -->"
   ]
  },
  {
   "cell_type": "markdown",
   "id": "443836cf",
   "metadata": {},
   "source": [
    "# Exercises week 36\n",
    "**September 4-8, 2023**\n",
    "\n",
    "Date: **Deadline is Sunday September 10 at midnight**"
   ]
  },
  {
   "cell_type": "markdown",
   "id": "52627eae",
   "metadata": {},
   "source": [
    "## Overarching aims of the exercises this week\n",
    "\n",
    "This set of exercises form an important part of the first project. The\n",
    "analytical exercises deal with the material covered last week on the\n",
    "mathematical interpretations of ordinary least squares and of Ridge\n",
    "regression. The numerical exercises can be seen as a continuation of\n",
    "exercise 3 from week 35, with the inclusion of Ridge regression. This\n",
    "material enters also the discussions of the first project."
   ]
  },
  {
   "cell_type": "markdown",
   "id": "717c36eb",
   "metadata": {},
   "source": [
    "## Exercise 1: Analytical exercises\n",
    "\n",
    "The aim here is to derive the expression for the optimal parameters\n",
    "using Ridge regression. Furthermore, using the singular value\n",
    "decomposition, we will analyze the difference between the ordinary\n",
    "least squares approach and Ridge regression.\n",
    "\n",
    "The expression for the standard Mean Squared Error (MSE) which we used to define our cost function and the equations for the ordinary least squares (OLS) method, that is \n",
    "our optimization problem is"
   ]
  },
  {
   "cell_type": "markdown",
   "id": "5c734a1d",
   "metadata": {},
   "source": [
    "$$\n",
    "{\\displaystyle \\min_{\\boldsymbol{\\beta}\\in {\\mathbb{R}}^{p}}}\\frac{1}{n}\\left\\{\\left(\\boldsymbol{y}-\\boldsymbol{X}\\boldsymbol{\\beta}\\right)^T\\left(\\boldsymbol{y}-\\boldsymbol{X}\\boldsymbol{\\beta}\\right)\\right\\}.\n",
    "$$"
   ]
  },
  {
   "cell_type": "markdown",
   "id": "6aaa8b49",
   "metadata": {},
   "source": [
    "or we can state it as"
   ]
  },
  {
   "cell_type": "markdown",
   "id": "afbd0f2c",
   "metadata": {},
   "source": [
    "$$\n",
    "{\\displaystyle \\min_{\\boldsymbol{\\beta}\\in\n",
    "{\\mathbb{R}}^{p}}}\\frac{1}{n}\\sum_{i=0}^{n-1}\\left(y_i-\\tilde{y}_i\\right)^2=\\frac{1}{n}\\vert\\vert \\boldsymbol{y}-\\boldsymbol{X}\\boldsymbol{\\beta}\\vert\\vert_2^2,\n",
    "$$"
   ]
  },
  {
   "cell_type": "markdown",
   "id": "ebccf185",
   "metadata": {},
   "source": [
    "where we have used the definition of  a norm-2 vector, that is"
   ]
  },
  {
   "cell_type": "markdown",
   "id": "62b078ff",
   "metadata": {},
   "source": [
    "$$\n",
    "\\vert\\vert \\boldsymbol{x}\\vert\\vert_2 = \\sqrt{\\sum_i x_i^2}.\n",
    "$$"
   ]
  },
  {
   "cell_type": "markdown",
   "id": "70bd79fa",
   "metadata": {},
   "source": [
    "By minimizing the above equation with respect to the parameters\n",
    "$\\boldsymbol{\\beta}$ we could then obtain an analytical expression for the\n",
    "parameters $\\boldsymbol{\\beta}$.\n",
    "\n",
    "We can add a regularization parameter $\\lambda$ by\n",
    "defining a new cost function to be optimized, that is"
   ]
  },
  {
   "cell_type": "markdown",
   "id": "114bf17c",
   "metadata": {},
   "source": [
    "$$\n",
    "{\\displaystyle \\min_{\\boldsymbol{\\beta}\\in\n",
    "{\\mathbb{R}}^{p}}}\\frac{1}{n}\\vert\\vert \\boldsymbol{y}-\\boldsymbol{X}\\boldsymbol{\\beta}\\vert\\vert_2^2+\\lambda\\vert\\vert \\boldsymbol{\\beta}\\vert\\vert_2^2\n",
    "$$"
   ]
  },
  {
   "cell_type": "markdown",
   "id": "2fcf0506",
   "metadata": {},
   "source": [
    "which leads to the Ridge regression minimization problem where we\n",
    "require that $\\vert\\vert \\boldsymbol{\\beta}\\vert\\vert_2^2\\le t$, where $t$ is\n",
    "a finite number larger than zero."
   ]
  },
  {
   "cell_type": "markdown",
   "id": "ba91302c",
   "metadata": {},
   "source": [
    "### a) Expression for Ridge regression\n",
    "\n",
    "Show that the optimal parameters"
   ]
  },
  {
   "cell_type": "markdown",
   "id": "4e86f509",
   "metadata": {},
   "source": [
    "$$\n",
    "\\hat{\\boldsymbol{\\beta}}_{\\mathrm{Ridge}} = \\left(\\boldsymbol{X}^T\\boldsymbol{X}+\\lambda\\boldsymbol{I}\\right)^{-1}\\boldsymbol{X}^T\\boldsymbol{y},\n",
    "$$"
   ]
  },
  {
   "cell_type": "markdown",
   "id": "94f90a0e",
   "metadata": {},
   "source": [
    "with $\\boldsymbol{I}$ being a $p\\times p$ identity matrix with the constraint that"
   ]
  },
  {
   "cell_type": "markdown",
   "id": "8a814dcc",
   "metadata": {},
   "source": [
    "$$\n",
    "\\sum_{i=0}^{p-1} \\beta_i^2 \\leq t,\n",
    "$$"
   ]
  },
  {
   "cell_type": "markdown",
   "id": "3af42292",
   "metadata": {},
   "source": [
    "with $t$ a finite positive number. \n",
    "\n",
    "The ordinary least squares result is"
   ]
  },
  {
   "cell_type": "markdown",
   "id": "c8625097",
   "metadata": {},
   "source": [
    "$$\n",
    "\\hat{\\boldsymbol{\\beta}}_{\\mathrm{OLS}} = \\left(\\boldsymbol{X}^T\\boldsymbol{X}\\right)^{-1}\\boldsymbol{X}^T\\boldsymbol{y},\n",
    "$$"
   ]
  },
  {
   "cell_type": "markdown",
   "id": "3a7f519d",
   "metadata": {},
   "source": [
    "### b) The singular value decomposition\n",
    "\n",
    "Use the singular value decomposition of an $m\\times n$ matrix $\\boldsymbol{X}$ (our design matrix)"
   ]
  },
  {
   "cell_type": "markdown",
   "id": "a8ae7021",
   "metadata": {},
   "source": [
    "$$\n",
    "\\boldsymbol{X}=\\boldsymbol{U}\\boldsymbol{\\Sigma}\\boldsymbol{V}^T,\n",
    "$$"
   ]
  },
  {
   "cell_type": "markdown",
   "id": "e1d65ded",
   "metadata": {},
   "source": [
    "where $\\boldsymbol{U}$ and $\\boldsymbol{V}$ are orthogonal matrices of dimensions\n",
    "$m\\times m$ and $n\\times n$, respectively, and $\\boldsymbol{\\Sigma}$ is an\n",
    "$m\\times n$ matrix which contains the ingular values only. This material was discussed during the lectures of week 35.\n",
    "\n",
    "Show that you can write the \n",
    "OLS solutions in terms of the eigenvectors (the columns) of the orthogonal matrix  $\\boldsymbol{U}$ as"
   ]
  },
  {
   "cell_type": "markdown",
   "id": "e147a177",
   "metadata": {},
   "source": [
    "$$\n",
    "\\tilde{\\boldsymbol{y}}_{\\mathrm{OLS}}=\\boldsymbol{X}\\boldsymbol{\\beta}  = \\sum_{j=0}^{p-1}\\boldsymbol{u}_j\\boldsymbol{u}_j^T\\boldsymbol{y}.\n",
    "$$"
   ]
  },
  {
   "cell_type": "markdown",
   "id": "749540e4",
   "metadata": {},
   "source": [
    "For Ridge regression, show that the corresponding equation is"
   ]
  },
  {
   "cell_type": "markdown",
   "id": "da2f753f",
   "metadata": {},
   "source": [
    "$$\n",
    "\\tilde{\\boldsymbol{y}}_{\\mathrm{Ridge}}=\\boldsymbol{X}\\boldsymbol{\\beta}_{\\mathrm{Ridge}} = \\boldsymbol{U\\Sigma V^T}\\left(\\boldsymbol{V}\\boldsymbol{\\Sigma}^2\\boldsymbol{V}^T+\\lambda\\boldsymbol{I} \\right)^{-1}(\\boldsymbol{U\\Sigma V^T})^T\\boldsymbol{y}=\\sum_{j=0}^{p-1}\\boldsymbol{u}_j\\boldsymbol{u}_j^T\\frac{\\sigma_j^2}{\\sigma_j^2+\\lambda}\\boldsymbol{y},\n",
    "$$"
   ]
  },
  {
   "cell_type": "markdown",
   "id": "b322bc70",
   "metadata": {},
   "source": [
    "with the vectors $\\boldsymbol{u}_j$ being the columns of $\\boldsymbol{U}$ from the SVD of the matrix $\\boldsymbol{X}$. \n",
    "\n",
    "Give an interpretation of the results.  Section 3.4 of Hastie et al's textbook gives a good discussion of the results."
   ]
  },
  {
   "cell_type": "markdown",
   "id": "bfaa449c",
   "metadata": {},
   "source": [
    "## Exercise 2: Adding Ridge Regression\n",
    "\n",
    "This exercise is a continuation of exercise 3 from last week. We will use the same function to\n",
    "generate our data set, still staying with a simple function $y(x)$\n",
    "which we want to fit using linear regression, but now extending the\n",
    "analysis to include the Ridge regression method.\n",
    "\n",
    "In this exercise you need to include the same elements from last week\n",
    "1. Scale your data by subtracting the mean value from each column in the design matrix.\n",
    "\n",
    "2. Perform a split of the data in training and test set.\n",
    "\n",
    "The addition to the analysis this time is the introduction of the hyperparameter $\\lambda$ when introducing Ridge regression.\n",
    "\n",
    "Extend the code from exercise 3 from week 35 to include Ridge regression with the hyperparameter $\\lambda$. The optimal parameters $\\hat{\\beta}$ for Ridge regression can be obtained by matrix inversion in a similar way as done for ordinary least squares. You need to add to your code the following equations"
   ]
  },
  {
   "cell_type": "markdown",
   "id": "ad23d47a",
   "metadata": {},
   "source": [
    "$$\n",
    "\\hat{\\boldsymbol{\\beta}}_{\\mathrm{Ridge}} = \\left(\\boldsymbol{X}^T\\boldsymbol{X}+\\lambda\\boldsymbol{I}\\right)^{-1}\\boldsymbol{X}^T\\boldsymbol{y}.\n",
    "$$"
   ]
  },
  {
   "cell_type": "markdown",
   "id": "d49ef4fc",
   "metadata": {},
   "source": [
    "The ordinary least squares result you encoded last week is given by"
   ]
  },
  {
   "cell_type": "markdown",
   "id": "45adbd8d",
   "metadata": {},
   "source": [
    "$$\n",
    "\\hat{\\boldsymbol{\\beta}}_{\\mathrm{OLS}} = \\left(\\boldsymbol{X}^T\\boldsymbol{X}\\right)^{-1}\\boldsymbol{X}^T\\boldsymbol{y},\n",
    "$$"
   ]
  },
  {
   "cell_type": "markdown",
   "id": "ceac24b4",
   "metadata": {},
   "source": [
    "Use these results to compute the mean squared error for ordinary least\n",
    "squares and Ridge regression first for a polynomial of degree five\n",
    "with $n=100$ data points and five selected values of\n",
    "$\\lambda=[0.0001,0.001, 0.01,0.1,1.0]$. Compute thereafter the mean\n",
    "squared error for the same values of $\\lambda$ for polynomials of degree ten\n",
    "and $15$. Discuss your results for the training MSE and test MSE with\n",
    "Ridge regression and ordinary least squares."
   ]
  }
 ],
 "metadata": {
  "kernelspec": {
   "display_name": "Python 3 (ipykernel)",
   "language": "python",
   "name": "python3"
  },
  "language_info": {
   "codemirror_mode": {
    "name": "ipython",
    "version": 3
   },
   "file_extension": ".py",
   "mimetype": "text/x-python",
   "name": "python",
   "nbconvert_exporter": "python",
   "pygments_lexer": "ipython3",
   "version": "3.9.10"
  }
 },
 "nbformat": 4,
 "nbformat_minor": 5
}
