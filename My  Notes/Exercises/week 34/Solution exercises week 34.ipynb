{
 "cells": [
  {
   "cell_type": "markdown",
   "source": [
    "The exercises are found in ../../doc/LectureNotes/exercisesweek34.ipynb)"
   ],
   "metadata": {
    "collapsed": false
   },
   "id": "57cede31e377fd96"
  },
  {
   "cell_type": "code",
   "execution_count": 9,
   "outputs": [],
   "source": [
    "%matplotlib inline\n",
    "\n",
    "import numpy as np\n",
    "import matplotlib.pyplot as plt\n",
    "from sklearn.linear_model import LinearRegression"
   ],
   "metadata": {
    "collapsed": false,
    "ExecuteTime": {
     "end_time": "2023-08-25T10:13:16.782676400Z",
     "start_time": "2023-08-25T10:13:15.287453800Z"
    }
   },
   "id": "5151fd618c5143ac"
  },
  {
   "cell_type": "code",
   "execution_count": 12,
   "outputs": [],
   "source": [
    "x = np.random.rand(100, 1)"
   ],
   "metadata": {
    "collapsed": false,
    "ExecuteTime": {
     "end_time": "2023-08-25T10:30:33.295659300Z",
     "start_time": "2023-08-25T10:30:33.293141300Z"
    }
   },
   "id": "4d85b7eeda37d46a"
  },
  {
   "cell_type": "code",
   "execution_count": null,
   "outputs": [],
   "source": [],
   "metadata": {
    "collapsed": false
   },
   "id": "946766e44335d7d"
  }
 ],
 "metadata": {
  "kernelspec": {
   "display_name": "Python 3",
   "language": "python",
   "name": "python3"
  },
  "language_info": {
   "codemirror_mode": {
    "name": "ipython",
    "version": 2
   },
   "file_extension": ".py",
   "mimetype": "text/x-python",
   "name": "python",
   "nbconvert_exporter": "python",
   "pygments_lexer": "ipython2",
   "version": "2.7.6"
  }
 },
 "nbformat": 4,
 "nbformat_minor": 5
}
