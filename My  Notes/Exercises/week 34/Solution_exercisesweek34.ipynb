{
 "cells": [
  {
   "cell_type": "markdown",
   "id": "241c4a61",
   "metadata": {
    "editable": true
   },
   "source": [
    "<!-- HTML file automatically generated from DocOnce source (https://github.com/doconce/doconce/)\n",
    "doconce format html exercisesweek34.do.txt  -->\n",
    "<!-- dom:TITLE: Exercises week 34 -->"
   ]
  },
  {
   "cell_type": "markdown",
   "id": "a33815b9",
   "metadata": {
    "editable": true
   },
   "source": [
    "# Exercises week 34\n",
    "**FYS-STK3155/4155**\n",
    "\n",
    "Date: **August 21-25, 2023**"
   ]
  },
  {
   "cell_type": "markdown",
   "id": "2990585c",
   "metadata": {
    "editable": true
   },
   "source": [
    "## Exercises\n",
    "\n",
    "Here are three possible exercises for week 34"
   ]
  },
  {
   "cell_type": "markdown",
   "id": "be056de0",
   "metadata": {
    "editable": true
   },
   "source": [
    "## Exercise 1: Setting up various Python environments\n",
    "\n",
    "The first exercise here is of a mere technical art. We want you to have \n",
    "* git as a version control software and to establish a user account on a provider like GitHub. Other providers like GitLab etc are equally fine. You can also use the University of Oslo [GitHub facilities](https://www.uio.no/tjenester/it/maskin/filer/versjonskontroll/github.html). \n",
    "\n",
    "* Install various Python packages\n",
    "\n",
    "We will make extensive use of Python as programming language and its\n",
    "myriad of available libraries.  You will find\n",
    "IPython/Jupyter notebooks invaluable in your work.  You can run **R**\n",
    "codes in the Jupyter/IPython notebooks, with the immediate benefit of\n",
    "visualizing your data. You can also use compiled languages like C++,\n",
    "Rust, Fortran etc if you prefer. The focus in these lectures will be\n",
    "on Python.\n",
    "\n",
    "If you have Python installed (we recommend Python3) and you feel\n",
    "pretty familiar with installing different packages, we recommend that\n",
    "you install the following Python packages via **pip** as \n",
    "\n",
    "1. pip install numpy scipy matplotlib ipython scikit-learn sympy pandas pillow \n",
    "\n",
    "For **Tensorflow**, we recommend following the instructions in the text of \n",
    "[Aurelien Geron, Hands‑On Machine Learning with Scikit‑Learn and TensorFlow, O'Reilly](http://shop.oreilly.com/product/0636920052289.do)\n",
    "\n",
    "We will come back to **tensorflow** later. \n",
    "\n",
    "For Python3, replace **pip** with **pip3**.\n",
    "\n",
    "For OSX users we recommend, after having installed Xcode, to\n",
    "install **brew**. Brew allows for a seamless installation of additional\n",
    "software via for example \n",
    "\n",
    "1. brew install python3\n",
    "\n",
    "For Linux users, with its variety of distributions like for example the widely popular Ubuntu distribution,\n",
    "you can use **pip** as well and simply install Python as \n",
    "\n",
    "1. sudo apt-get install python3  (or python for Python2.7)\n",
    "\n",
    "If you don't want to perform these operations separately and venture\n",
    "into the hassle of exploring how to set up dependencies and paths, we\n",
    "recommend two widely used distrubutions which set up all relevant\n",
    "dependencies for Python, namely \n",
    "\n",
    "* [Anaconda](https://docs.anaconda.com/), \n",
    "\n",
    "which is an open source\n",
    "distribution of the Python and R programming languages for large-scale\n",
    "data processing, predictive analytics, and scientific computing, that\n",
    "aims to simplify package management and deployment. Package versions\n",
    "are managed by the package management system **conda**. \n",
    "\n",
    "* [Enthought canopy](https://www.enthought.com/product/canopy/) \n",
    "\n",
    "is a Python\n",
    "distribution for scientific and analytic computing distribution and\n",
    "analysis environment, available for free and under a commercial\n",
    "license.\n",
    "\n",
    "We recommend using **Anaconda** if you are not too familiar with setting paths in a terminal environment."
   ]
  },
  {
   "cell_type": "markdown",
   "id": "f0f4ffae",
   "metadata": {
    "editable": true
   },
   "source": [
    "## Exercise 2: making your own data and exploring scikit-learn\n",
    "\n",
    "We will generate our own dataset for a function $y(x)$ where $x \\in [0,1]$ and defined by random numbers computed with the uniform distribution. The function $y$ is a quadratic polynomial in $x$ with added stochastic noise according to the normal distribution $\\cal {N}(0,1)$.\n",
    "The following simple Python instructions define our $x$ and $y$ values (with 100 data points)."
   ]
  },
  {
   "cell_type": "code",
   "execution_count": null,
   "id": "93d6a2b2",
   "metadata": {
    "collapsed": false,
    "editable": true
   },
   "outputs": [],
   "source": [
    "x = np.random.rand(100,1)\n",
    "y = 2.0+5*x*x+0.1*np.random.randn(100,1)"
   ]
  },
  {
   "cell_type": "markdown",
   "id": "45392145",
   "metadata": {
    "editable": true
   },
   "source": [
    "1. Write your own code (following the examples under the [regression notes](https://compphysics.github.io/MachineLearning/doc/LectureNotes/_build/html/chapter1.html)) for computing the parametrization of the data set fitting a second-order polynomial. \n",
    "\n",
    "2. Use thereafter **scikit-learn** (see again the examples in the regression slides) and compare with your own code.   \n",
    "\n",
    "3. Using scikit-learn, compute also the mean square error, a risk metric corresponding to the expected value of the squared (quadratic) error defined as"
   ]
  },
  {
   "cell_type": "markdown",
   "id": "3eed315b",
   "metadata": {
    "editable": true
   },
   "source": [
    "$$\n",
    "MSE(\\boldsymbol{y},\\boldsymbol{\\tilde{y}}) = \\frac{1}{n}\n",
    "\\sum_{i=0}^{n-1}(y_i-\\tilde{y}_i)^2,\n",
    "$$"
   ]
  },
  {
   "cell_type": "markdown",
   "id": "26038071",
   "metadata": {
    "editable": true
   },
   "source": [
    "and the $R^2$ score function.\n",
    "If $\\tilde{\\boldsymbol{y}}_i$ is the predicted value of the $i-th$ sample and $y_i$ is the corresponding true value, then the score $R^2$ is defined as"
   ]
  },
  {
   "cell_type": "markdown",
   "id": "4c750d55",
   "metadata": {
    "editable": true
   },
   "source": [
    "$$\n",
    "R^2(\\boldsymbol{y}, \\tilde{\\boldsymbol{y}}) = 1 - \\frac{\\sum_{i=0}^{n - 1} (y_i - \\tilde{y}_i)^2}{\\sum_{i=0}^{n - 1} (y_i - \\bar{y})^2},\n",
    "$$"
   ]
  },
  {
   "cell_type": "markdown",
   "id": "30b4731e",
   "metadata": {
    "editable": true
   },
   "source": [
    "where we have defined the mean value  of $\\boldsymbol{y}$ as"
   ]
  },
  {
   "cell_type": "markdown",
   "id": "49afe51d",
   "metadata": {
    "editable": true
   },
   "source": [
    "$$\n",
    "\\bar{y} =  \\frac{1}{n} \\sum_{i=0}^{n - 1} y_i.\n",
    "$$"
   ]
  },
  {
   "cell_type": "markdown",
   "id": "81f16b80",
   "metadata": {
    "editable": true
   },
   "source": [
    "You can use the functionality included in scikit-learn. If you feel for it, you can use your own program and define functions which compute the above two functions. \n",
    "Discuss the meaning of these results. Try also to vary the coefficient in front of the added stochastic noise term and discuss the quality of the fits."
   ]
  },
  {
   "cell_type": "markdown",
   "source": [
    "## Solution Exercise 2"
   ],
   "metadata": {
    "collapsed": false
   },
   "id": "4dadfaacd63bcec1"
  },
  {
   "cell_type": "markdown",
   "source": [
    "Start by importing packages and generating a results save folder"
   ],
   "metadata": {
    "collapsed": false
   },
   "id": "1bb22cfde09a1aa7"
  },
  {
   "cell_type": "code",
   "execution_count": 167,
   "outputs": [],
   "source": [
    "import os \n",
    "\n",
    "import numpy as np\n",
    "\n",
    "import matplotlib.pyplot as plt\n",
    "plt.style.use('Solarize_Light2')\n",
    "\n",
    "from sklearn.model_selection import train_test_split\n",
    "import sklearn.linear_model as skl\n",
    "from sklearn.metrics import mean_squared_error, r2_score, mean_absolute_error"
   ],
   "metadata": {
    "collapsed": false,
    "ExecuteTime": {
     "end_time": "2023-08-30T12:56:09.826528300Z",
     "start_time": "2023-08-30T12:56:09.820145500Z"
    }
   },
   "id": "81162da4751b429"
  },
  {
   "cell_type": "code",
   "execution_count": 168,
   "outputs": [],
   "source": [
    "# Where to save the figures and data files\n",
    "PROJECT_ROOT_DIR = \"Results\"\n",
    "FIGURE_ID = \"Results/FigureFiles\"\n",
    "DATA_ID = \"DataFiles/\"\n",
    "\n",
    "if not os.path.exists(PROJECT_ROOT_DIR):\n",
    "    os.mkdir(PROJECT_ROOT_DIR)\n",
    "\n",
    "if not os.path.exists(FIGURE_ID):\n",
    "    os.makedirs(FIGURE_ID)\n",
    "\n",
    "if not os.path.exists(DATA_ID):\n",
    "    os.makedirs(DATA_ID)\n",
    "\n",
    "def image_path(fig_id):\n",
    "    return os.path.join(FIGURE_ID, fig_id)\n",
    "\n",
    "def data_path(dat_id):\n",
    "    return os.path.join(DATA_ID, dat_id)\n",
    "\n",
    "def save_fig(fig_id):\n",
    "    plt.savefig(image_path(fig_id) + \".png\", format='png')"
   ],
   "metadata": {
    "collapsed": false,
    "ExecuteTime": {
     "end_time": "2023-08-30T12:56:12.019406200Z",
     "start_time": "2023-08-30T12:56:12.014253900Z"
    }
   },
   "id": "d27674eea990b456"
  },
  {
   "cell_type": "markdown",
   "source": [
    "Define $x$ and $y$ as in the exercise text: "
   ],
   "metadata": {
    "collapsed": false
   },
   "id": "533eae2a126b6626"
  },
  {
   "cell_type": "code",
   "execution_count": 169,
   "outputs": [
    {
     "data": {
      "text/plain": "<Figure size 800x600 with 1 Axes>",
      "image/png": "[encoded data removed]"
     },
     "metadata": {},
     "output_type": "display_data"
    }
   ],
   "source": [
    "x = np.random.rand(100,1)\n",
    "y = 2.0+5*x*x+0.1*np.random.randn(100,1)\n",
    "\n",
    "# Plotting to get an idea of what we are dealing with. \n",
    "fig, ax = plt.subplots(figsize=[8,6])\n",
    "\n",
    "ax.scatter(x, y, \n",
    "            color='blue',\n",
    "            label='Random data')\n",
    "\n",
    "# Legg til en legend nederst sentrert i en separat boks\n",
    "legend = ax.legend(loc='upper center', bbox_to_anchor=(0.5, -0.2), #lokasjon\n",
    "                   fancybox=True, shadow=True) # utseende for boksen\n",
    "legend.get_frame().set_facecolor('white') #uteseende for boksenplt.show()\n",
    "\n",
    "plt.show()"
   ],
   "metadata": {
    "collapsed": false,
    "ExecuteTime": {
     "end_time": "2023-08-30T12:56:14.173324600Z",
     "start_time": "2023-08-30T12:56:14.059840700Z"
    }
   },
   "id": "eb8acd9747549a65"
  },
  {
   "cell_type": "markdown",
   "source": [
    "In order to fit the parametrization of a second order polynomial we have to:\n",
    "- Define the design matrix $X\\in \\mathbb{R}^{100\\times 3}$\n",
    "- Split the design matrix and solution vector into: train and test data\n",
    "- In order to solve the least-square problem of the line fitting we estimate the parametres $\\mathbf{\\beta} \\in \\mathbb{R}^3$. This is done by solving the normal equation $\\hat{\\beta} = (X^TX)^{-1}X^T\\mathbf{y}$. \n",
    "\n",
    "Then we repeat the learning using scikit-learn in order to compare with the methode of solving the normal equation. "
   ],
   "metadata": {
    "collapsed": false
   },
   "id": "7221b186fceec3f9"
  },
  {
   "cell_type": "code",
   "execution_count": 170,
   "outputs": [
    {
     "data": {
      "text/plain": "<Figure size 800x600 with 1 Axes>",
      "image/png": "[encoded data removed]"
     },
     "metadata": {},
     "output_type": "display_data"
    }
   ],
   "source": [
    "X = np.hstack((np.ones_like(x), x, x**2)) # Designmatrisen med 1 ere, x og kvadrert x i siste kolonne\n",
    "\n",
    "X_train, X_test, y_train, y_test = train_test_split(X, y, test_size=0.4) # Deler opp modeldataen i trenings og test-data\n",
    "\n",
    "def normal_equation(X, y):\n",
    "    X_t = np.transpose(X)\n",
    "    return np.linalg.inv(X_t @ X) @ (X_t @ y)\n",
    "\n",
    "beta = normal_equation(X_train, y_train)\n",
    "\n",
    "y_tilde = X_train @ beta\n",
    "\n",
    "linreg = skl.LinearRegression()\n",
    "linreg.fit(X_train, y_train)\n",
    "ypredict = linreg.predict(X_train)\n",
    "\n",
    "# Plotting for å se hvordan prediksjonen passer til linjen  \n",
    "fig, ax = plt.subplots(figsize=[8,6])\n",
    "\n",
    "\n",
    "ax.scatter(x, y, \n",
    "            color='blue',\n",
    "            label='Random data')\n",
    "\n",
    "ax.scatter(X_train[:,1], y_tilde,\n",
    "           color='red',\n",
    "           label=r'Prediction based on $\\hat{\\beta}$')\n",
    "\n",
    "ax.scatter(X_train[:,1], ypredict,\n",
    "           color='green',\n",
    "           alpha=0.5,\n",
    "           label=r'Prediction based on skl.LinearRegression()')\n",
    "\n",
    "# Legg til en legend nederst sentrert i en separat boks\n",
    "legend = ax.legend(loc='upper left', #lokasjon\n",
    "                   fancybox=True, shadow=True) # utseende for boksen\n",
    "legend.get_frame().set_facecolor('white') #uteseende for boksenplt.show()\n",
    "\n",
    "save_fig('Regression over random data')\n",
    "plt.show()"
   ],
   "metadata": {
    "collapsed": false,
    "ExecuteTime": {
     "end_time": "2023-08-30T12:56:18.252328600Z",
     "start_time": "2023-08-30T12:56:17.965552200Z"
    }
   },
   "id": "2377d001b1635e3d"
  },
  {
   "cell_type": "markdown",
   "source": [],
   "metadata": {
    "collapsed": false
   },
   "id": "d6851a234ad7b256"
  },
  {
   "cell_type": "code",
   "execution_count": 171,
   "outputs": [
    {
     "name": "stdout",
     "output_type": "stream",
     "text": [
      "Mean squared error: 0.008159372524843696\n",
      "Variance score: 0.996414194286906\n"
     ]
    }
   ],
   "source": [
    "# The mean squared error                               \n",
    "print(f'Mean squared error: {mean_squared_error(y_train, y_tilde)}')\n",
    "\n",
    "# Explained variance score: 1 is perfect prediction                                 \n",
    "print(f'Variance score: {r2_score(y_train, y_tilde)}')"
   ],
   "metadata": {
    "collapsed": false,
    "ExecuteTime": {
     "end_time": "2023-08-30T12:56:33.396461300Z",
     "start_time": "2023-08-30T12:56:33.376410600Z"
    }
   },
   "id": "e3d461f0406a6aef"
  },
  {
   "cell_type": "markdown",
   "id": "cb71cb1c",
   "metadata": {
    "editable": true
   },
   "source": [
    "## Exercise 3: Split data in test and training data\n",
    "\n",
    "In this exercise we want you to compute the MSE for the training\n",
    "data and the test data as function of the complexity of a polynomial,\n",
    "that is the degree of a given polynomial.\n",
    "\n",
    "The aim is to reproduce Figure 2.11 of [Hastie et al](https://github.com/CompPhysics/MLErasmus/blob/master/doc/Textbooks/elementsstat.pdf).\n",
    "\n",
    "Our data is defined by $x\\in [-3,3]$ with a total of for example $n=100$ data points. You should try to vary the number of data points $n$ in your analysis."
   ]
  },
  {
   "cell_type": "code",
   "execution_count": 172,
   "id": "b8c919e5",
   "metadata": {
    "collapsed": false,
    "editable": true,
    "ExecuteTime": {
     "end_time": "2023-08-30T12:56:37.538382200Z",
     "start_time": "2023-08-30T12:56:37.526914100Z"
    }
   },
   "outputs": [],
   "source": [
    "np.random.seed(16)\n",
    "\n",
    "n = 100\n",
    "# Make data set.\n",
    "x = np.linspace(-3, 3, n).reshape(-1, 1)\n",
    "y = np.exp(-x**2) + 1.5 * np.exp(-(x-2)**2)+ np.random.normal(0, 0.1, x.shape)"
   ]
  },
  {
   "cell_type": "markdown",
   "id": "50629e14",
   "metadata": {
    "editable": true
   },
   "source": [
    "where $y$ is the function we want to fit with a given polynomial."
   ]
  },
  {
   "cell_type": "markdown",
   "id": "0578f08c",
   "metadata": {
    "editable": true
   },
   "source": [
    "**a)**\n",
    "Write a first code which sets up a design matrix $X$ defined by a fifth-order polynomial and split your data set in training and test data."
   ]
  },
  {
   "cell_type": "code",
   "execution_count": 176,
   "outputs": [],
   "source": [
    "# Setter opp designmatrisen for polynomet [1, x, x^2, x^3, x^4, x^5]\n",
    "X = np.hstack((np.ones_like(x), x, x**2, x**3, x**3, x**4, x**5))\n",
    "\n",
    "X_train, X_test, y_train, y_test = train_test_split(X, y, test_size=0.4) # Deler opp modeldataen i trenings og test-data"
   ],
   "metadata": {
    "collapsed": false,
    "ExecuteTime": {
     "end_time": "2023-08-30T12:59:39.307502500Z",
     "start_time": "2023-08-30T12:59:39.294567800Z"
    }
   },
   "id": "176aa44724c1fd58"
  },
  {
   "cell_type": "markdown",
   "id": "125ec9a1",
   "metadata": {
    "editable": true
   },
   "source": [
    "**b)**\n",
    "Write thereafter (using either **scikit-learn** or your matrix inversion code using for example **numpy**)\n",
    "and perform an ordinary least squares fitting and compute the mean squared error for the training data and the test data. These calculations should apply to a model given by a fifth-order polynomial."
   ]
  },
  {
   "cell_type": "code",
   "execution_count": 179,
   "outputs": [
    {
     "name": "stdout",
     "output_type": "stream",
     "text": [
      "[[ 0.          0.22805055 -0.04301649  0.03254318  0.03254318 -0.00107279\n",
      "  -0.00920933]]\n"
     ]
    }
   ],
   "source": [
    "linreg = skl.LinearRegression()\n",
    "\n",
    "linreg.fit(X_train, y_train, )\n",
    "\n",
    "print(linreg.coef_)\n",
    "ypredict = linreg.predict(X_train)\n",
    "\n"
   ],
   "metadata": {
    "collapsed": false,
    "ExecuteTime": {
     "end_time": "2023-08-30T13:01:19.667984100Z",
     "start_time": "2023-08-30T13:01:19.663387800Z"
    }
   },
   "id": "51f75f0ac71d9fa"
  },
  {
   "cell_type": "markdown",
   "id": "e5bb2036",
   "metadata": {
    "editable": true
   },
   "source": [
    "**c)**\n",
    "Add now a model which allows you to make polynomials up to degree $15$.  Perform a standard OLS fitting of the training data and compute the MSE for the training and test data and plot both test and training data MSE as functions of the polynomial degree. Compare what you see with Figure 2.11 of Hastie et al. Comment your results. For which polynomial degree do you find an optimal MSE (smallest value)?"
   ]
  }
 ],
 "metadata": {
  "kernelspec": {
   "name": "python3",
   "language": "python",
   "display_name": "Python 3 (ipykernel)"
  }
 },
 "nbformat": 4,
 "nbformat_minor": 5
}
